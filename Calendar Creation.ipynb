{
 "cells": [
  {
   "cell_type": "code",
   "execution_count": null,
   "id": "6a7f4fa9-d6f2-4c72-b279-c72dd0d0a3d5",
   "metadata": {},
   "outputs": [],
   "source": [
    "from ics import Calendar, Event\n",
    "import pandas as pd"
   ]
  },
  {
   "cell_type": "code",
   "execution_count": null,
   "id": "6e440638-48bc-488e-858e-964472add686",
   "metadata": {},
   "outputs": [],
   "source": [
    "# Read the CSV file into a DataFrame\n",
    "tasks_df = pd.read_csv('tasks.csv')\n",
    "\n",
    "# Create a new calendar object\n",
    "cal = Calendar()\n",
    "\n",
    "# Loop through each row in the DataFrame to create events\n",
    "for index, row in tasks_df.iterrows():\n",
    "    event = Event()  # Create a new event object\n",
    "    event.name = row['Tasks']  # Set the event name to the task description\n",
    "    event.begin = pd.to_datetime(row['Start Date'])  # Set the event start date\n",
    "    event.end = pd.to_datetime(row['End Date']) + pd.DateOffset(days=1)  # Set the event end date to the day after the specified end date for an all-day event\n",
    "    event.make_all_day()  # Make the event an all-day event\n",
    "    cal.events.add(event)  # Add the event to the calendar\n",
    "\n",
    "# Save the calendar to an ICS file\n",
    "ics_file_path = \"Business_Building_Calendar.ics\"  # Define the file path for the ICS file\n",
    "with open(ics_file_path, 'w') as f:  # Open the file in write mode\n",
    "    f.writelines(cal)  # Write the calendar data to the file\n",
    "\n",
    "print(f\"ICS file created at: {ics_file_path}\")  # Print the location of the created ICS file\n"
   ]
  }
 ],
 "metadata": {
  "kernelspec": {
   "display_name": "Python 3 (ipykernel)",
   "language": "python",
   "name": "python3"
  },
  "language_info": {
   "codemirror_mode": {
    "name": "ipython",
    "version": 3
   },
   "file_extension": ".py",
   "mimetype": "text/x-python",
   "name": "python",
   "nbconvert_exporter": "python",
   "pygments_lexer": "ipython3",
   "version": "3.1.undefined"
  }
 },
 "nbformat": 4,
 "nbformat_minor": 5
}
